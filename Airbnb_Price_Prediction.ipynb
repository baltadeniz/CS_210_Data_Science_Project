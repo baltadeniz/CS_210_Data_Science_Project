{
  "nbformat": 4,
  "nbformat_minor": 0,
  "metadata": {
    "colab": {
      "name": "Airbnb Price Prediction.ipynb",
      "provenance": [],
      "collapsed_sections": [],
      "toc_visible": true
    },
    "kernelspec": {
      "name": "python3",
      "display_name": "Python 3"
    }
  },
  "cells": [
    {
      "cell_type": "markdown",
      "metadata": {
        "id": "tPdlcstH11mU"
      },
      "source": [
        "# [Airbnb Prices - 100]\n",
        "\n",
        "Group Members:\n",
        "\n",
        "Deniz Balta 26672"
      ]
    },
    {
      "cell_type": "markdown",
      "metadata": {
        "id": "B1iB4MSX3-6L"
      },
      "source": [
        "## Introduction\n",
        "In this project, I'm trying to find what factors determine the prices of the Airbnb listings in New York City using the tecniques we learned in the CS210 class."
      ]
    },
    {
      "cell_type": "markdown",
      "metadata": {
        "id": "B2omK2BI4KyB"
      },
      "source": [
        "### Problem Definition\n",
        "\n",
        "The end goal of this project to have better understanding of the prices of Airbnb listing in New York City and to guess the price of an Airbnb listing if I have certain information on it. I will achieve solving this with hypothesis testing, t-test and machine learning modelling."
      ]
    },
    {
      "cell_type": "markdown",
      "metadata": {
        "id": "ZjWMWVoA4NcV"
      },
      "source": [
        "### Utilized Datasets\n",
        "\n",
        "The first dataset used can be found using this link: https://www.kaggle.com/dgomonov/new-york-city-airbnb-open-data\n",
        "\n",
        "The second dataset used can ben found using this link: https://data.cityofnewyork.us/Public-Safety/NYPD-Arrest-Data-Year-to-Date-/uip8-fykc\n"
      ]
    },
    {
      "cell_type": "code",
      "metadata": {
        "id": "4H44w0WTtwej",
        "colab": {
          "base_uri": "https://localhost:8080/",
          "height": 34
        },
        "outputId": "2faa2015-8282-4bb4-b0db-5a1446e06d2e"
      },
      "source": [
        "from google.colab import drive\n",
        "drive.mount(\"/content/drive\", force_remount=True)\n",
        "\n",
        "path_prefix = \"/content/drive/My Drive\""
      ],
      "execution_count": null,
      "outputs": [
        {
          "output_type": "stream",
          "text": [
            "Mounted at /content/drive\n"
          ],
          "name": "stdout"
        }
      ]
    },
    {
      "cell_type": "code",
      "metadata": {
        "id": "VYxRaoEat_hH",
        "colab": {
          "base_uri": "https://localhost:8080/",
          "height": 71
        },
        "outputId": "680be2ed-a97a-447d-e81f-a22cb071e888"
      },
      "source": [
        "import pandas as pd\n",
        "import numpy as np\n",
        "import matplotlib.pyplot as plt\n",
        "import seaborn as sns \n",
        "from scipy import stats\n",
        "from sklearn.model_selection import train_test_split\n",
        "from sklearn.metrics import accuracy_score\n",
        "from sklearn.neighbors import KNeighborsClassifier\n",
        "from sklearn import tree\n",
        "from sklearn.model_selection import cross_val_score\n",
        "\n",
        "from os.path import join "
      ],
      "execution_count": null,
      "outputs": [
        {
          "output_type": "stream",
          "text": [
            "/usr/local/lib/python3.6/dist-packages/statsmodels/tools/_testing.py:19: FutureWarning: pandas.util.testing is deprecated. Use the functions in the public API at pandas.testing instead.\n",
            "  import pandas.util.testing as tm\n"
          ],
          "name": "stderr"
        }
      ]
    },
    {
      "cell_type": "code",
      "metadata": {
        "id": "OVsYjlFMHlIK",
        "colab": {
          "base_uri": "https://localhost:8080/",
          "height": 411
        },
        "outputId": "8ebd41cf-06ad-48a1-bedc-7f2315fd4ba1"
      },
      "source": [
        "fname = \"AB_NYC_2019.csv\"\n",
        "df = pd.read_csv(join(path_prefix, fname))\n",
        "\n",
        "df.head()"
      ],
      "execution_count": null,
      "outputs": [
        {
          "output_type": "execute_result",
          "data": {
            "text/html": [
              "<div>\n",
              "<style scoped>\n",
              "    .dataframe tbody tr th:only-of-type {\n",
              "        vertical-align: middle;\n",
              "    }\n",
              "\n",
              "    .dataframe tbody tr th {\n",
              "        vertical-align: top;\n",
              "    }\n",
              "\n",
              "    .dataframe thead th {\n",
              "        text-align: right;\n",
              "    }\n",
              "</style>\n",
              "<table border=\"1\" class=\"dataframe\">\n",
              "  <thead>\n",
              "    <tr style=\"text-align: right;\">\n",
              "      <th></th>\n",
              "      <th>id</th>\n",
              "      <th>name</th>\n",
              "      <th>host_id</th>\n",
              "      <th>host_name</th>\n",
              "      <th>neighbourhood_group</th>\n",
              "      <th>neighbourhood</th>\n",
              "      <th>latitude</th>\n",
              "      <th>longitude</th>\n",
              "      <th>room_type</th>\n",
              "      <th>price</th>\n",
              "      <th>minimum_nights</th>\n",
              "      <th>number_of_reviews</th>\n",
              "      <th>last_review</th>\n",
              "      <th>reviews_per_month</th>\n",
              "      <th>calculated_host_listings_count</th>\n",
              "      <th>availability_365</th>\n",
              "    </tr>\n",
              "  </thead>\n",
              "  <tbody>\n",
              "    <tr>\n",
              "      <th>0</th>\n",
              "      <td>2539</td>\n",
              "      <td>Clean &amp; quiet apt home by the park</td>\n",
              "      <td>2787</td>\n",
              "      <td>John</td>\n",
              "      <td>Brooklyn</td>\n",
              "      <td>Kensington</td>\n",
              "      <td>40.64749</td>\n",
              "      <td>-73.97237</td>\n",
              "      <td>Private room</td>\n",
              "      <td>149</td>\n",
              "      <td>1</td>\n",
              "      <td>9</td>\n",
              "      <td>2018-10-19</td>\n",
              "      <td>0.21</td>\n",
              "      <td>6</td>\n",
              "      <td>365</td>\n",
              "    </tr>\n",
              "    <tr>\n",
              "      <th>1</th>\n",
              "      <td>2595</td>\n",
              "      <td>Skylit Midtown Castle</td>\n",
              "      <td>2845</td>\n",
              "      <td>Jennifer</td>\n",
              "      <td>Manhattan</td>\n",
              "      <td>Midtown</td>\n",
              "      <td>40.75362</td>\n",
              "      <td>-73.98377</td>\n",
              "      <td>Entire home/apt</td>\n",
              "      <td>225</td>\n",
              "      <td>1</td>\n",
              "      <td>45</td>\n",
              "      <td>2019-05-21</td>\n",
              "      <td>0.38</td>\n",
              "      <td>2</td>\n",
              "      <td>355</td>\n",
              "    </tr>\n",
              "    <tr>\n",
              "      <th>2</th>\n",
              "      <td>3647</td>\n",
              "      <td>THE VILLAGE OF HARLEM....NEW YORK !</td>\n",
              "      <td>4632</td>\n",
              "      <td>Elisabeth</td>\n",
              "      <td>Manhattan</td>\n",
              "      <td>Harlem</td>\n",
              "      <td>40.80902</td>\n",
              "      <td>-73.94190</td>\n",
              "      <td>Private room</td>\n",
              "      <td>150</td>\n",
              "      <td>3</td>\n",
              "      <td>0</td>\n",
              "      <td>NaN</td>\n",
              "      <td>NaN</td>\n",
              "      <td>1</td>\n",
              "      <td>365</td>\n",
              "    </tr>\n",
              "    <tr>\n",
              "      <th>3</th>\n",
              "      <td>3831</td>\n",
              "      <td>Cozy Entire Floor of Brownstone</td>\n",
              "      <td>4869</td>\n",
              "      <td>LisaRoxanne</td>\n",
              "      <td>Brooklyn</td>\n",
              "      <td>Clinton Hill</td>\n",
              "      <td>40.68514</td>\n",
              "      <td>-73.95976</td>\n",
              "      <td>Entire home/apt</td>\n",
              "      <td>89</td>\n",
              "      <td>1</td>\n",
              "      <td>270</td>\n",
              "      <td>2019-07-05</td>\n",
              "      <td>4.64</td>\n",
              "      <td>1</td>\n",
              "      <td>194</td>\n",
              "    </tr>\n",
              "    <tr>\n",
              "      <th>4</th>\n",
              "      <td>5022</td>\n",
              "      <td>Entire Apt: Spacious Studio/Loft by central park</td>\n",
              "      <td>7192</td>\n",
              "      <td>Laura</td>\n",
              "      <td>Manhattan</td>\n",
              "      <td>East Harlem</td>\n",
              "      <td>40.79851</td>\n",
              "      <td>-73.94399</td>\n",
              "      <td>Entire home/apt</td>\n",
              "      <td>80</td>\n",
              "      <td>10</td>\n",
              "      <td>9</td>\n",
              "      <td>2018-11-19</td>\n",
              "      <td>0.10</td>\n",
              "      <td>1</td>\n",
              "      <td>0</td>\n",
              "    </tr>\n",
              "  </tbody>\n",
              "</table>\n",
              "</div>"
            ],
            "text/plain": [
              "     id  ... availability_365\n",
              "0  2539  ...              365\n",
              "1  2595  ...              355\n",
              "2  3647  ...              365\n",
              "3  3831  ...              194\n",
              "4  5022  ...                0\n",
              "\n",
              "[5 rows x 16 columns]"
            ]
          },
          "metadata": {
            "tags": []
          },
          "execution_count": 3
        }
      ]
    },
    {
      "cell_type": "code",
      "metadata": {
        "id": "_PPkgaq3-yCH",
        "colab": {
          "base_uri": "https://localhost:8080/",
          "height": 360
        },
        "outputId": "acc21605-020c-4cc7-b10a-7e776d1867f1"
      },
      "source": [
        "filename = \"NYPD_Arrest_Data_.csv\"\n",
        "ad = pd.read_csv(join(path_prefix, filename))\n",
        "\n",
        "ad.head()"
      ],
      "execution_count": null,
      "outputs": [
        {
          "output_type": "execute_result",
          "data": {
            "text/html": [
              "<div>\n",
              "<style scoped>\n",
              "    .dataframe tbody tr th:only-of-type {\n",
              "        vertical-align: middle;\n",
              "    }\n",
              "\n",
              "    .dataframe tbody tr th {\n",
              "        vertical-align: top;\n",
              "    }\n",
              "\n",
              "    .dataframe thead th {\n",
              "        text-align: right;\n",
              "    }\n",
              "</style>\n",
              "<table border=\"1\" class=\"dataframe\">\n",
              "  <thead>\n",
              "    <tr style=\"text-align: right;\">\n",
              "      <th></th>\n",
              "      <th>ARREST_KEY</th>\n",
              "      <th>ARREST_DATE</th>\n",
              "      <th>PD_CD</th>\n",
              "      <th>PD_DESC</th>\n",
              "      <th>KY_CD</th>\n",
              "      <th>OFNS_DESC</th>\n",
              "      <th>LAW_CODE</th>\n",
              "      <th>LAW_CAT_CD</th>\n",
              "      <th>ARREST_BORO</th>\n",
              "      <th>ARREST_PRECINCT</th>\n",
              "      <th>JURISDICTION_CODE</th>\n",
              "      <th>AGE_GROUP</th>\n",
              "      <th>PERP_SEX</th>\n",
              "      <th>PERP_RACE</th>\n",
              "      <th>X_COORD_CD</th>\n",
              "      <th>Y_COORD_CD</th>\n",
              "      <th>Latitude</th>\n",
              "      <th>Longitude</th>\n",
              "    </tr>\n",
              "  </thead>\n",
              "  <tbody>\n",
              "    <tr>\n",
              "      <th>0</th>\n",
              "      <td>211620954</td>\n",
              "      <td>03/31/2020</td>\n",
              "      <td>746.0</td>\n",
              "      <td>PERJURY 3,ETC.</td>\n",
              "      <td>359.0</td>\n",
              "      <td>OFFENSES AGAINST PUBLIC ADMINI</td>\n",
              "      <td>PL 2104500</td>\n",
              "      <td>M</td>\n",
              "      <td>Q</td>\n",
              "      <td>113</td>\n",
              "      <td>0</td>\n",
              "      <td>18-24</td>\n",
              "      <td>M</td>\n",
              "      <td>ASIAN / PACIFIC ISLANDER</td>\n",
              "      <td>1046405</td>\n",
              "      <td>187113</td>\n",
              "      <td>40.680049</td>\n",
              "      <td>-73.775909</td>\n",
              "    </tr>\n",
              "    <tr>\n",
              "      <th>1</th>\n",
              "      <td>211628059</td>\n",
              "      <td>03/31/2020</td>\n",
              "      <td>339.0</td>\n",
              "      <td>LARCENY,PETIT FROM OPEN AREAS,</td>\n",
              "      <td>341.0</td>\n",
              "      <td>PETIT LARCENY</td>\n",
              "      <td>PL 1552500</td>\n",
              "      <td>M</td>\n",
              "      <td>B</td>\n",
              "      <td>49</td>\n",
              "      <td>0</td>\n",
              "      <td>45-64</td>\n",
              "      <td>M</td>\n",
              "      <td>WHITE HISPANIC</td>\n",
              "      <td>1027430</td>\n",
              "      <td>251105</td>\n",
              "      <td>40.855803</td>\n",
              "      <td>-73.843910</td>\n",
              "    </tr>\n",
              "    <tr>\n",
              "      <th>2</th>\n",
              "      <td>211633662</td>\n",
              "      <td>03/31/2020</td>\n",
              "      <td>113.0</td>\n",
              "      <td>MENACING,UNCLASSIFIED</td>\n",
              "      <td>344.0</td>\n",
              "      <td>ASSAULT 3 &amp; RELATED OFFENSES</td>\n",
              "      <td>PL 1201401</td>\n",
              "      <td>M</td>\n",
              "      <td>B</td>\n",
              "      <td>46</td>\n",
              "      <td>0</td>\n",
              "      <td>&lt;18</td>\n",
              "      <td>F</td>\n",
              "      <td>BLACK HISPANIC</td>\n",
              "      <td>1010591</td>\n",
              "      <td>250447</td>\n",
              "      <td>40.854063</td>\n",
              "      <td>-73.904784</td>\n",
              "    </tr>\n",
              "    <tr>\n",
              "      <th>3</th>\n",
              "      <td>211634243</td>\n",
              "      <td>03/31/2020</td>\n",
              "      <td>117.0</td>\n",
              "      <td>RECKLESS ENDANGERMENT 1</td>\n",
              "      <td>126.0</td>\n",
              "      <td>MISCELLANEOUS PENAL LAW</td>\n",
              "      <td>PL 1202500</td>\n",
              "      <td>F</td>\n",
              "      <td>M</td>\n",
              "      <td>25</td>\n",
              "      <td>0</td>\n",
              "      <td>45-64</td>\n",
              "      <td>M</td>\n",
              "      <td>BLACK</td>\n",
              "      <td>1003297</td>\n",
              "      <td>231385</td>\n",
              "      <td>40.801762</td>\n",
              "      <td>-73.931204</td>\n",
              "    </tr>\n",
              "    <tr>\n",
              "      <th>4</th>\n",
              "      <td>211634096</td>\n",
              "      <td>03/31/2020</td>\n",
              "      <td>114.0</td>\n",
              "      <td>OBSTR BREATH/CIRCUL</td>\n",
              "      <td>344.0</td>\n",
              "      <td>ASSAULT 3 &amp; RELATED OFFENSES</td>\n",
              "      <td>PL 1211100</td>\n",
              "      <td>M</td>\n",
              "      <td>Q</td>\n",
              "      <td>108</td>\n",
              "      <td>0</td>\n",
              "      <td>25-44</td>\n",
              "      <td>M</td>\n",
              "      <td>BLACK HISPANIC</td>\n",
              "      <td>1008720</td>\n",
              "      <td>211017</td>\n",
              "      <td>40.745844</td>\n",
              "      <td>-73.911691</td>\n",
              "    </tr>\n",
              "  </tbody>\n",
              "</table>\n",
              "</div>"
            ],
            "text/plain": [
              "   ARREST_KEY ARREST_DATE  PD_CD  ... Y_COORD_CD   Latitude  Longitude\n",
              "0   211620954  03/31/2020  746.0  ...     187113  40.680049 -73.775909\n",
              "1   211628059  03/31/2020  339.0  ...     251105  40.855803 -73.843910\n",
              "2   211633662  03/31/2020  113.0  ...     250447  40.854063 -73.904784\n",
              "3   211634243  03/31/2020  117.0  ...     231385  40.801762 -73.931204\n",
              "4   211634096  03/31/2020  114.0  ...     211017  40.745844 -73.911691\n",
              "\n",
              "[5 rows x 18 columns]"
            ]
          },
          "metadata": {
            "tags": []
          },
          "execution_count": 4
        }
      ]
    },
    {
      "cell_type": "markdown",
      "metadata": {
        "id": "uAvEBhb6Hsui"
      },
      "source": [
        "####Understanding and cleaning the datasets"
      ]
    },
    {
      "cell_type": "markdown",
      "metadata": {
        "id": "9MBUL1sTIOZf"
      },
      "source": [
        "This section is for seeing some aspects of the datasets, so that when it comes to data exploration and creating machine learning models, the data will be suitable to do so. "
      ]
    },
    {
      "cell_type": "markdown",
      "metadata": {
        "id": "OiUMZ8Agjne0"
      },
      "source": [
        "#####The Airbnb Listings Dataset"
      ]
    },
    {
      "cell_type": "code",
      "metadata": {
        "id": "DyAHW_ATHyGz",
        "colab": {
          "base_uri": "https://localhost:8080/",
          "height": 34
        },
        "outputId": "73263f98-e7ed-4156-ea48-86c3b9cd827c"
      },
      "source": [
        "df.shape"
      ],
      "execution_count": null,
      "outputs": [
        {
          "output_type": "execute_result",
          "data": {
            "text/plain": [
              "(48895, 16)"
            ]
          },
          "metadata": {
            "tags": []
          },
          "execution_count": 5
        }
      ]
    },
    {
      "cell_type": "code",
      "metadata": {
        "id": "s8tswo1AJEPr",
        "colab": {
          "base_uri": "https://localhost:8080/",
          "height": 306
        },
        "outputId": "4a81272c-605b-4d83-9b81-4c1b492149ca"
      },
      "source": [
        "df.dtypes"
      ],
      "execution_count": null,
      "outputs": [
        {
          "output_type": "execute_result",
          "data": {
            "text/plain": [
              "id                                  int64\n",
              "name                               object\n",
              "host_id                             int64\n",
              "host_name                          object\n",
              "neighbourhood_group                object\n",
              "neighbourhood                      object\n",
              "latitude                          float64\n",
              "longitude                         float64\n",
              "room_type                          object\n",
              "price                               int64\n",
              "minimum_nights                      int64\n",
              "number_of_reviews                   int64\n",
              "last_review                        object\n",
              "reviews_per_month                 float64\n",
              "calculated_host_listings_count      int64\n",
              "availability_365                    int64\n",
              "dtype: object"
            ]
          },
          "metadata": {
            "tags": []
          },
          "execution_count": 6
        }
      ]
    },
    {
      "cell_type": "code",
      "metadata": {
        "id": "-vJ3OaW9Jmob",
        "colab": {
          "base_uri": "https://localhost:8080/",
          "height": 306
        },
        "outputId": "38369b39-8126-4cc4-a73d-e922d7e37531"
      },
      "source": [
        "df.isnull().sum()"
      ],
      "execution_count": null,
      "outputs": [
        {
          "output_type": "execute_result",
          "data": {
            "text/plain": [
              "id                                    0\n",
              "name                                 16\n",
              "host_id                               0\n",
              "host_name                            21\n",
              "neighbourhood_group                   0\n",
              "neighbourhood                         0\n",
              "latitude                              0\n",
              "longitude                             0\n",
              "room_type                             0\n",
              "price                                 0\n",
              "minimum_nights                        0\n",
              "number_of_reviews                     0\n",
              "last_review                       10052\n",
              "reviews_per_month                 10052\n",
              "calculated_host_listings_count        0\n",
              "availability_365                      0\n",
              "dtype: int64"
            ]
          },
          "metadata": {
            "tags": []
          },
          "execution_count": 7
        }
      ]
    },
    {
      "cell_type": "markdown",
      "metadata": {
        "id": "vzopAT7DJPLk"
      },
      "source": [
        "I am removing the columns with mostly NaN values like \"last_review\" and \"reviews_per_month\". I am also removing the columns \"name\" and \"host_name\" not because they have some NaN values but because the information on these columns isn't necessary. "
      ]
    },
    {
      "cell_type": "code",
      "metadata": {
        "id": "N9GhY0tyIIw2",
        "colab": {
          "base_uri": "https://localhost:8080/",
          "height": 309
        },
        "outputId": "39505e55-1da6-4b8f-eeb2-bf61d6be646d"
      },
      "source": [
        "df.drop([ \"reviews_per_month\", \"name\", \"host_name\", \"last_review\"], axis=1, inplace=True)\n",
        "df.head()"
      ],
      "execution_count": null,
      "outputs": [
        {
          "output_type": "execute_result",
          "data": {
            "text/html": [
              "<div>\n",
              "<style scoped>\n",
              "    .dataframe tbody tr th:only-of-type {\n",
              "        vertical-align: middle;\n",
              "    }\n",
              "\n",
              "    .dataframe tbody tr th {\n",
              "        vertical-align: top;\n",
              "    }\n",
              "\n",
              "    .dataframe thead th {\n",
              "        text-align: right;\n",
              "    }\n",
              "</style>\n",
              "<table border=\"1\" class=\"dataframe\">\n",
              "  <thead>\n",
              "    <tr style=\"text-align: right;\">\n",
              "      <th></th>\n",
              "      <th>id</th>\n",
              "      <th>host_id</th>\n",
              "      <th>neighbourhood_group</th>\n",
              "      <th>neighbourhood</th>\n",
              "      <th>latitude</th>\n",
              "      <th>longitude</th>\n",
              "      <th>room_type</th>\n",
              "      <th>price</th>\n",
              "      <th>minimum_nights</th>\n",
              "      <th>number_of_reviews</th>\n",
              "      <th>calculated_host_listings_count</th>\n",
              "      <th>availability_365</th>\n",
              "    </tr>\n",
              "  </thead>\n",
              "  <tbody>\n",
              "    <tr>\n",
              "      <th>0</th>\n",
              "      <td>2539</td>\n",
              "      <td>2787</td>\n",
              "      <td>Brooklyn</td>\n",
              "      <td>Kensington</td>\n",
              "      <td>40.64749</td>\n",
              "      <td>-73.97237</td>\n",
              "      <td>Private room</td>\n",
              "      <td>149</td>\n",
              "      <td>1</td>\n",
              "      <td>9</td>\n",
              "      <td>6</td>\n",
              "      <td>365</td>\n",
              "    </tr>\n",
              "    <tr>\n",
              "      <th>1</th>\n",
              "      <td>2595</td>\n",
              "      <td>2845</td>\n",
              "      <td>Manhattan</td>\n",
              "      <td>Midtown</td>\n",
              "      <td>40.75362</td>\n",
              "      <td>-73.98377</td>\n",
              "      <td>Entire home/apt</td>\n",
              "      <td>225</td>\n",
              "      <td>1</td>\n",
              "      <td>45</td>\n",
              "      <td>2</td>\n",
              "      <td>355</td>\n",
              "    </tr>\n",
              "    <tr>\n",
              "      <th>2</th>\n",
              "      <td>3647</td>\n",
              "      <td>4632</td>\n",
              "      <td>Manhattan</td>\n",
              "      <td>Harlem</td>\n",
              "      <td>40.80902</td>\n",
              "      <td>-73.94190</td>\n",
              "      <td>Private room</td>\n",
              "      <td>150</td>\n",
              "      <td>3</td>\n",
              "      <td>0</td>\n",
              "      <td>1</td>\n",
              "      <td>365</td>\n",
              "    </tr>\n",
              "    <tr>\n",
              "      <th>3</th>\n",
              "      <td>3831</td>\n",
              "      <td>4869</td>\n",
              "      <td>Brooklyn</td>\n",
              "      <td>Clinton Hill</td>\n",
              "      <td>40.68514</td>\n",
              "      <td>-73.95976</td>\n",
              "      <td>Entire home/apt</td>\n",
              "      <td>89</td>\n",
              "      <td>1</td>\n",
              "      <td>270</td>\n",
              "      <td>1</td>\n",
              "      <td>194</td>\n",
              "    </tr>\n",
              "    <tr>\n",
              "      <th>4</th>\n",
              "      <td>5022</td>\n",
              "      <td>7192</td>\n",
              "      <td>Manhattan</td>\n",
              "      <td>East Harlem</td>\n",
              "      <td>40.79851</td>\n",
              "      <td>-73.94399</td>\n",
              "      <td>Entire home/apt</td>\n",
              "      <td>80</td>\n",
              "      <td>10</td>\n",
              "      <td>9</td>\n",
              "      <td>1</td>\n",
              "      <td>0</td>\n",
              "    </tr>\n",
              "  </tbody>\n",
              "</table>\n",
              "</div>"
            ],
            "text/plain": [
              "     id  host_id  ... calculated_host_listings_count availability_365\n",
              "0  2539     2787  ...                              6              365\n",
              "1  2595     2845  ...                              2              355\n",
              "2  3647     4632  ...                              1              365\n",
              "3  3831     4869  ...                              1              194\n",
              "4  5022     7192  ...                              1                0\n",
              "\n",
              "[5 rows x 12 columns]"
            ]
          },
          "metadata": {
            "tags": []
          },
          "execution_count": 8
        }
      ]
    },
    {
      "cell_type": "markdown",
      "metadata": {
        "id": "0oDX1XTcjUbZ"
      },
      "source": [
        "Now I will look at some detailed information about the columns in the dataset so that I can understand what are the most common values of them. "
      ]
    },
    {
      "cell_type": "code",
      "metadata": {
        "id": "P3E-Jn0pjUGx",
        "colab": {
          "base_uri": "https://localhost:8080/",
          "height": 119
        },
        "outputId": "6610d014-0fe3-4cf9-e638-70801731ffdd"
      },
      "source": [
        "ng_count=df.neighbourhood_group.value_counts()\n",
        "ng_count"
      ],
      "execution_count": null,
      "outputs": [
        {
          "output_type": "execute_result",
          "data": {
            "text/plain": [
              "Manhattan        21661\n",
              "Brooklyn         20104\n",
              "Queens            5666\n",
              "Bronx             1091\n",
              "Staten Island      373\n",
              "Name: neighbourhood_group, dtype: int64"
            ]
          },
          "metadata": {
            "tags": []
          },
          "execution_count": 9
        }
      ]
    },
    {
      "cell_type": "code",
      "metadata": {
        "id": "GKterp5Aj4nF",
        "colab": {
          "base_uri": "https://localhost:8080/",
          "height": 289
        },
        "outputId": "5b815046-3bb1-4661-f92c-149aa214c24c"
      },
      "source": [
        "n_count=df.neighbourhood.value_counts()\n",
        "n_count.head(15)"
      ],
      "execution_count": null,
      "outputs": [
        {
          "output_type": "execute_result",
          "data": {
            "text/plain": [
              "Williamsburg          3920\n",
              "Bedford-Stuyvesant    3714\n",
              "Harlem                2658\n",
              "Bushwick              2465\n",
              "Upper West Side       1971\n",
              "Hell's Kitchen        1958\n",
              "East Village          1853\n",
              "Upper East Side       1798\n",
              "Crown Heights         1564\n",
              "Midtown               1545\n",
              "East Harlem           1117\n",
              "Greenpoint            1115\n",
              "Chelsea               1113\n",
              "Lower East Side        911\n",
              "Astoria                900\n",
              "Name: neighbourhood, dtype: int64"
            ]
          },
          "metadata": {
            "tags": []
          },
          "execution_count": 10
        }
      ]
    },
    {
      "cell_type": "code",
      "metadata": {
        "id": "FnEYE3HFj8xF",
        "colab": {
          "base_uri": "https://localhost:8080/",
          "height": 221
        },
        "outputId": "5649328a-4844-44d9-87fc-d9b7d6080137"
      },
      "source": [
        "array=df.host_id.unique()\n",
        "print(\"Number of unique host id's from 48895 different Airbnb listings is:\", len(array))\n",
        "h_count=df.host_id.value_counts()\n",
        "top_hosts=h_count.head(10)\n",
        "top_hosts"
      ],
      "execution_count": null,
      "outputs": [
        {
          "output_type": "stream",
          "text": [
            "Number of unique host id's from 48895 different Airbnb listings is: 37457\n"
          ],
          "name": "stdout"
        },
        {
          "output_type": "execute_result",
          "data": {
            "text/plain": [
              "219517861    327\n",
              "107434423    232\n",
              "30283594     121\n",
              "137358866    103\n",
              "12243051      96\n",
              "16098958      96\n",
              "61391963      91\n",
              "22541573      87\n",
              "200380610     65\n",
              "7503643       52\n",
              "Name: host_id, dtype: int64"
            ]
          },
          "metadata": {
            "tags": []
          },
          "execution_count": 11
        }
      ]
    },
    {
      "cell_type": "code",
      "metadata": {
        "id": "pqG4UJ43kLax",
        "colab": {
          "base_uri": "https://localhost:8080/",
          "height": 85
        },
        "outputId": "fad2e3df-87b1-4b4c-c417-5599bb247520"
      },
      "source": [
        "r_count=df.room_type.value_counts()\n",
        "r_count"
      ],
      "execution_count": null,
      "outputs": [
        {
          "output_type": "execute_result",
          "data": {
            "text/plain": [
              "Entire home/apt    25409\n",
              "Private room       22326\n",
              "Shared room         1160\n",
              "Name: room_type, dtype: int64"
            ]
          },
          "metadata": {
            "tags": []
          },
          "execution_count": 12
        }
      ]
    },
    {
      "cell_type": "markdown",
      "metadata": {
        "id": "OL9_kQp_kOc4"
      },
      "source": [
        "#####The NYC Arrest Dataset\n"
      ]
    },
    {
      "cell_type": "code",
      "metadata": {
        "id": "qjN4uUJEkNi7",
        "colab": {
          "base_uri": "https://localhost:8080/",
          "height": 34
        },
        "outputId": "659d181d-a31c-4c76-9c08-e6756b069879"
      },
      "source": [
        "ad.shape"
      ],
      "execution_count": null,
      "outputs": [
        {
          "output_type": "execute_result",
          "data": {
            "text/plain": [
              "(44824, 18)"
            ]
          },
          "metadata": {
            "tags": []
          },
          "execution_count": 13
        }
      ]
    },
    {
      "cell_type": "code",
      "metadata": {
        "id": "qKRXs3mwkkQB",
        "colab": {
          "base_uri": "https://localhost:8080/",
          "height": 340
        },
        "outputId": "c3fbcb8d-8083-41fd-95eb-4d7d56cb5402"
      },
      "source": [
        "ad.dtypes"
      ],
      "execution_count": null,
      "outputs": [
        {
          "output_type": "execute_result",
          "data": {
            "text/plain": [
              "ARREST_KEY             int64\n",
              "ARREST_DATE           object\n",
              "PD_CD                float64\n",
              "PD_DESC               object\n",
              "KY_CD                float64\n",
              "OFNS_DESC             object\n",
              "LAW_CODE              object\n",
              "LAW_CAT_CD            object\n",
              "ARREST_BORO           object\n",
              "ARREST_PRECINCT        int64\n",
              "JURISDICTION_CODE      int64\n",
              "AGE_GROUP             object\n",
              "PERP_SEX              object\n",
              "PERP_RACE             object\n",
              "X_COORD_CD             int64\n",
              "Y_COORD_CD             int64\n",
              "Latitude             float64\n",
              "Longitude            float64\n",
              "dtype: object"
            ]
          },
          "metadata": {
            "tags": []
          },
          "execution_count": 14
        }
      ]
    },
    {
      "cell_type": "code",
      "metadata": {
        "id": "kQ3NGLyOknUx",
        "colab": {
          "base_uri": "https://localhost:8080/",
          "height": 340
        },
        "outputId": "e1ccaa88-653f-42f3-912d-17a814cfcb61"
      },
      "source": [
        "ad.isnull().sum()"
      ],
      "execution_count": null,
      "outputs": [
        {
          "output_type": "execute_result",
          "data": {
            "text/plain": [
              "ARREST_KEY             0\n",
              "ARREST_DATE            0\n",
              "PD_CD                  2\n",
              "PD_DESC               34\n",
              "KY_CD                 34\n",
              "OFNS_DESC             34\n",
              "LAW_CODE               0\n",
              "LAW_CAT_CD           395\n",
              "ARREST_BORO            0\n",
              "ARREST_PRECINCT        0\n",
              "JURISDICTION_CODE      0\n",
              "AGE_GROUP              0\n",
              "PERP_SEX               0\n",
              "PERP_RACE              0\n",
              "X_COORD_CD             0\n",
              "Y_COORD_CD             0\n",
              "Latitude               0\n",
              "Longitude              0\n",
              "dtype: int64"
            ]
          },
          "metadata": {
            "tags": []
          },
          "execution_count": 15
        }
      ]
    },
    {
      "cell_type": "markdown",
      "metadata": {
        "id": "B9PhxRTnkrlL"
      },
      "source": [
        "I am removing the columns \"LAW_CAT_CD\" which represents the type of the offense and \"PERP_SEX\" which represents the sex of the perpetrator since both are not related information for the problem I'm trying to solve.\n",
        "\n",
        "I'm also changing the values of the \"ARREST_BRO\" which represents the neighbourhood of the arrest to match the values of the first dataset. "
      ]
    },
    {
      "cell_type": "code",
      "metadata": {
        "id": "n6UkUPwLkptj",
        "colab": {
          "base_uri": "https://localhost:8080/",
          "height": 360
        },
        "outputId": "1f54106b-405f-41be-b68f-2d18d70a5ffc"
      },
      "source": [
        "#dropping the columns \"LAW_CAT_CD\" and \"PERP_SEX\n",
        "ad.drop([\"LAW_CAT_CD\", \"PERP_SEX\"], axis=1, inplace=True)\n",
        "\n",
        "#replacing the values of this column to match the other dataset\n",
        "ad=ad.replace(to_replace=\"Q\", value=\"Queens\")\n",
        "ad=ad.replace(to_replace=\"B\", value=\"Bronx\")\n",
        "ad=ad.replace(to_replace=\"M\", value=\"Manhattan\")\n",
        "ad=ad.replace(to_replace=\"K\", value=\"Brooklyn\")\n",
        "ad=ad.replace(to_replace=\"S\", value=\"Staten Island\")\n",
        "ad.head()"
      ],
      "execution_count": null,
      "outputs": [
        {
          "output_type": "execute_result",
          "data": {
            "text/html": [
              "<div>\n",
              "<style scoped>\n",
              "    .dataframe tbody tr th:only-of-type {\n",
              "        vertical-align: middle;\n",
              "    }\n",
              "\n",
              "    .dataframe tbody tr th {\n",
              "        vertical-align: top;\n",
              "    }\n",
              "\n",
              "    .dataframe thead th {\n",
              "        text-align: right;\n",
              "    }\n",
              "</style>\n",
              "<table border=\"1\" class=\"dataframe\">\n",
              "  <thead>\n",
              "    <tr style=\"text-align: right;\">\n",
              "      <th></th>\n",
              "      <th>ARREST_KEY</th>\n",
              "      <th>ARREST_DATE</th>\n",
              "      <th>PD_CD</th>\n",
              "      <th>PD_DESC</th>\n",
              "      <th>KY_CD</th>\n",
              "      <th>OFNS_DESC</th>\n",
              "      <th>LAW_CODE</th>\n",
              "      <th>ARREST_BORO</th>\n",
              "      <th>ARREST_PRECINCT</th>\n",
              "      <th>JURISDICTION_CODE</th>\n",
              "      <th>AGE_GROUP</th>\n",
              "      <th>PERP_RACE</th>\n",
              "      <th>X_COORD_CD</th>\n",
              "      <th>Y_COORD_CD</th>\n",
              "      <th>Latitude</th>\n",
              "      <th>Longitude</th>\n",
              "    </tr>\n",
              "  </thead>\n",
              "  <tbody>\n",
              "    <tr>\n",
              "      <th>0</th>\n",
              "      <td>211620954</td>\n",
              "      <td>03/31/2020</td>\n",
              "      <td>746.0</td>\n",
              "      <td>PERJURY 3,ETC.</td>\n",
              "      <td>359.0</td>\n",
              "      <td>OFFENSES AGAINST PUBLIC ADMINI</td>\n",
              "      <td>PL 2104500</td>\n",
              "      <td>Queens</td>\n",
              "      <td>113</td>\n",
              "      <td>0</td>\n",
              "      <td>18-24</td>\n",
              "      <td>ASIAN / PACIFIC ISLANDER</td>\n",
              "      <td>1046405</td>\n",
              "      <td>187113</td>\n",
              "      <td>40.680049</td>\n",
              "      <td>-73.775909</td>\n",
              "    </tr>\n",
              "    <tr>\n",
              "      <th>1</th>\n",
              "      <td>211628059</td>\n",
              "      <td>03/31/2020</td>\n",
              "      <td>339.0</td>\n",
              "      <td>LARCENY,PETIT FROM OPEN AREAS,</td>\n",
              "      <td>341.0</td>\n",
              "      <td>PETIT LARCENY</td>\n",
              "      <td>PL 1552500</td>\n",
              "      <td>Bronx</td>\n",
              "      <td>49</td>\n",
              "      <td>0</td>\n",
              "      <td>45-64</td>\n",
              "      <td>WHITE HISPANIC</td>\n",
              "      <td>1027430</td>\n",
              "      <td>251105</td>\n",
              "      <td>40.855803</td>\n",
              "      <td>-73.843910</td>\n",
              "    </tr>\n",
              "    <tr>\n",
              "      <th>2</th>\n",
              "      <td>211633662</td>\n",
              "      <td>03/31/2020</td>\n",
              "      <td>113.0</td>\n",
              "      <td>MENACING,UNCLASSIFIED</td>\n",
              "      <td>344.0</td>\n",
              "      <td>ASSAULT 3 &amp; RELATED OFFENSES</td>\n",
              "      <td>PL 1201401</td>\n",
              "      <td>Bronx</td>\n",
              "      <td>46</td>\n",
              "      <td>0</td>\n",
              "      <td>&lt;18</td>\n",
              "      <td>BLACK HISPANIC</td>\n",
              "      <td>1010591</td>\n",
              "      <td>250447</td>\n",
              "      <td>40.854063</td>\n",
              "      <td>-73.904784</td>\n",
              "    </tr>\n",
              "    <tr>\n",
              "      <th>3</th>\n",
              "      <td>211634243</td>\n",
              "      <td>03/31/2020</td>\n",
              "      <td>117.0</td>\n",
              "      <td>RECKLESS ENDANGERMENT 1</td>\n",
              "      <td>126.0</td>\n",
              "      <td>MISCELLANEOUS PENAL LAW</td>\n",
              "      <td>PL 1202500</td>\n",
              "      <td>Manhattan</td>\n",
              "      <td>25</td>\n",
              "      <td>0</td>\n",
              "      <td>45-64</td>\n",
              "      <td>BLACK</td>\n",
              "      <td>1003297</td>\n",
              "      <td>231385</td>\n",
              "      <td>40.801762</td>\n",
              "      <td>-73.931204</td>\n",
              "    </tr>\n",
              "    <tr>\n",
              "      <th>4</th>\n",
              "      <td>211634096</td>\n",
              "      <td>03/31/2020</td>\n",
              "      <td>114.0</td>\n",
              "      <td>OBSTR BREATH/CIRCUL</td>\n",
              "      <td>344.0</td>\n",
              "      <td>ASSAULT 3 &amp; RELATED OFFENSES</td>\n",
              "      <td>PL 1211100</td>\n",
              "      <td>Queens</td>\n",
              "      <td>108</td>\n",
              "      <td>0</td>\n",
              "      <td>25-44</td>\n",
              "      <td>BLACK HISPANIC</td>\n",
              "      <td>1008720</td>\n",
              "      <td>211017</td>\n",
              "      <td>40.745844</td>\n",
              "      <td>-73.911691</td>\n",
              "    </tr>\n",
              "  </tbody>\n",
              "</table>\n",
              "</div>"
            ],
            "text/plain": [
              "   ARREST_KEY ARREST_DATE  PD_CD  ... Y_COORD_CD   Latitude  Longitude\n",
              "0   211620954  03/31/2020  746.0  ...     187113  40.680049 -73.775909\n",
              "1   211628059  03/31/2020  339.0  ...     251105  40.855803 -73.843910\n",
              "2   211633662  03/31/2020  113.0  ...     250447  40.854063 -73.904784\n",
              "3   211634243  03/31/2020  117.0  ...     231385  40.801762 -73.931204\n",
              "4   211634096  03/31/2020  114.0  ...     211017  40.745844 -73.911691\n",
              "\n",
              "[5 rows x 16 columns]"
            ]
          },
          "metadata": {
            "tags": []
          },
          "execution_count": 16
        }
      ]
    },
    {
      "cell_type": "markdown",
      "metadata": {
        "id": "msrRFOy5nAN-"
      },
      "source": [
        "Most related column of this dataset to my problem is \"ARREST_BORO\", so I'm looking at the count of the values in this column."
      ]
    },
    {
      "cell_type": "code",
      "metadata": {
        "id": "E7Zh5BICm-8H",
        "colab": {
          "base_uri": "https://localhost:8080/",
          "height": 119
        },
        "outputId": "94c3d595-551b-4300-fd6f-f7de4529300c"
      },
      "source": [
        "nb_count=ad.ARREST_BORO.value_counts()\n",
        "nb_count"
      ],
      "execution_count": null,
      "outputs": [
        {
          "output_type": "execute_result",
          "data": {
            "text/plain": [
              "Brooklyn         12093\n",
              "Manhattan        11418\n",
              "Bronx            10060\n",
              "Queens            9304\n",
              "Staten Island     1949\n",
              "Name: ARREST_BORO, dtype: int64"
            ]
          },
          "metadata": {
            "tags": []
          },
          "execution_count": 17
        }
      ]
    },
    {
      "cell_type": "markdown",
      "metadata": {
        "id": "ict00io34o_x"
      },
      "source": [
        "## Data Exploration"
      ]
    },
    {
      "cell_type": "markdown",
      "metadata": {
        "id": "wGSShioLsprj"
      },
      "source": [
        "### Visualizing the data\n",
        "\n",
        "In this section, I am looking at the relationships between different variables from the same dataset or across the two datasets and visualizing them to have better understanding of the data."
      ]
    },
    {
      "cell_type": "markdown",
      "metadata": {
        "id": "kG524P4zqqOJ"
      },
      "source": [
        "Below chart is the statistics of the price values according to each neighbourhood."
      ]
    },
    {
      "cell_type": "code",
      "metadata": {
        "id": "XU2mDYvsqBx1",
        "colab": {
          "base_uri": "https://localhost:8080/",
          "height": 297
        },
        "outputId": "078e8967-90e5-4c3c-c60a-206fa795d17e"
      },
      "source": [
        "#creating another dataframe to store information\n",
        "#column names of the new dataframe are the neighbourhoods to see the prices clearly\n",
        "index=range(0, len(df))\n",
        "df_n=pd.DataFrame(index=index)\n",
        "\n",
        "#storing the price information for each column of the new dataset(neighbourhood)\n",
        "n1=df.loc[df[\"neighbourhood_group\"]==\"Brooklyn\"]\n",
        "price_n1=n1[\"price\"]\n",
        "df_n[\"brooklyn_prices\"]=price_n1\n",
        "\n",
        "n2=df.loc[df[\"neighbourhood_group\"]==\"Manhattan\"]\n",
        "price_n2=n2[\"price\"]\n",
        "df_n[\"manhattan_prices\"]=price_n2\n",
        "\n",
        "n3=df.loc[df[\"neighbourhood_group\"]==\"Queens\"]\n",
        "price_n3=n3[\"price\"]\n",
        "df_n[\"queens_prices\"]=price_n3\n",
        "\n",
        "n4=df.loc[df[\"neighbourhood_group\"]==\"Bronx\"]\n",
        "price_n4=n4[\"price\"]\n",
        "df_n[\"bronx_prices\"]=price_n4\n",
        "\n",
        "n5=df.loc[df[\"neighbourhood_group\"]==\"Staten Island\"]\n",
        "price_n5=n5[\"price\"]\n",
        "df_n[\"staten_island_prices\"]=price_n5\n",
        "\n",
        "\n",
        "df_n.describe()"
      ],
      "execution_count": null,
      "outputs": [
        {
          "output_type": "execute_result",
          "data": {
            "text/html": [
              "<div>\n",
              "<style scoped>\n",
              "    .dataframe tbody tr th:only-of-type {\n",
              "        vertical-align: middle;\n",
              "    }\n",
              "\n",
              "    .dataframe tbody tr th {\n",
              "        vertical-align: top;\n",
              "    }\n",
              "\n",
              "    .dataframe thead th {\n",
              "        text-align: right;\n",
              "    }\n",
              "</style>\n",
              "<table border=\"1\" class=\"dataframe\">\n",
              "  <thead>\n",
              "    <tr style=\"text-align: right;\">\n",
              "      <th></th>\n",
              "      <th>brooklyn_prices</th>\n",
              "      <th>manhattan_prices</th>\n",
              "      <th>queens_prices</th>\n",
              "      <th>bronx_prices</th>\n",
              "      <th>staten_island_prices</th>\n",
              "    </tr>\n",
              "  </thead>\n",
              "  <tbody>\n",
              "    <tr>\n",
              "      <th>count</th>\n",
              "      <td>20104.000000</td>\n",
              "      <td>21661.000000</td>\n",
              "      <td>5666.000000</td>\n",
              "      <td>1091.000000</td>\n",
              "      <td>373.000000</td>\n",
              "    </tr>\n",
              "    <tr>\n",
              "      <th>mean</th>\n",
              "      <td>124.383207</td>\n",
              "      <td>196.875814</td>\n",
              "      <td>99.517649</td>\n",
              "      <td>87.496792</td>\n",
              "      <td>114.812332</td>\n",
              "    </tr>\n",
              "    <tr>\n",
              "      <th>std</th>\n",
              "      <td>186.873538</td>\n",
              "      <td>291.383183</td>\n",
              "      <td>167.102155</td>\n",
              "      <td>106.709349</td>\n",
              "      <td>277.620403</td>\n",
              "    </tr>\n",
              "    <tr>\n",
              "      <th>min</th>\n",
              "      <td>0.000000</td>\n",
              "      <td>0.000000</td>\n",
              "      <td>10.000000</td>\n",
              "      <td>0.000000</td>\n",
              "      <td>13.000000</td>\n",
              "    </tr>\n",
              "    <tr>\n",
              "      <th>25%</th>\n",
              "      <td>60.000000</td>\n",
              "      <td>95.000000</td>\n",
              "      <td>50.000000</td>\n",
              "      <td>45.000000</td>\n",
              "      <td>50.000000</td>\n",
              "    </tr>\n",
              "    <tr>\n",
              "      <th>50%</th>\n",
              "      <td>90.000000</td>\n",
              "      <td>150.000000</td>\n",
              "      <td>75.000000</td>\n",
              "      <td>65.000000</td>\n",
              "      <td>75.000000</td>\n",
              "    </tr>\n",
              "    <tr>\n",
              "      <th>75%</th>\n",
              "      <td>150.000000</td>\n",
              "      <td>220.000000</td>\n",
              "      <td>110.000000</td>\n",
              "      <td>99.000000</td>\n",
              "      <td>110.000000</td>\n",
              "    </tr>\n",
              "    <tr>\n",
              "      <th>max</th>\n",
              "      <td>10000.000000</td>\n",
              "      <td>10000.000000</td>\n",
              "      <td>10000.000000</td>\n",
              "      <td>2500.000000</td>\n",
              "      <td>5000.000000</td>\n",
              "    </tr>\n",
              "  </tbody>\n",
              "</table>\n",
              "</div>"
            ],
            "text/plain": [
              "       brooklyn_prices  manhattan_prices  ...  bronx_prices  staten_island_prices\n",
              "count     20104.000000      21661.000000  ...   1091.000000            373.000000\n",
              "mean        124.383207        196.875814  ...     87.496792            114.812332\n",
              "std         186.873538        291.383183  ...    106.709349            277.620403\n",
              "min           0.000000          0.000000  ...      0.000000             13.000000\n",
              "25%          60.000000         95.000000  ...     45.000000             50.000000\n",
              "50%          90.000000        150.000000  ...     65.000000             75.000000\n",
              "75%         150.000000        220.000000  ...     99.000000            110.000000\n",
              "max       10000.000000      10000.000000  ...   2500.000000           5000.000000\n",
              "\n",
              "[8 rows x 5 columns]"
            ]
          },
          "metadata": {
            "tags": []
          },
          "execution_count": 18
        }
      ]
    },
    {
      "cell_type": "markdown",
      "metadata": {
        "id": "RcsV4d3xqOJ7"
      },
      "source": [
        "Below chart is the statistics of the price values according to each neighbourhood on a color map to help understand better."
      ]
    },
    {
      "cell_type": "code",
      "metadata": {
        "id": "P0F9Bx0VqfU4",
        "colab": {
          "base_uri": "https://localhost:8080/",
          "height": 506
        },
        "outputId": "09c5f5c3-22b8-4e2d-ee0a-f08da4da29be"
      },
      "source": [
        "#finding the ration between longitude and latitude to decide on the size of the figure\n",
        "max_long=df[\"longitude\"].max()\n",
        "min_long=df[\"longitude\"].min()\n",
        "\n",
        "max_lat=df[\"latitude\"].max()\n",
        "min_lat=df[\"latitude\"].min()\n",
        "\n",
        "ratio=(max_long-min_long)/(max_lat-min_lat)\n",
        "print(\"Ratio of longitude of to latitude is:\", ratio)\n",
        "\n",
        "#plotting the price values on the color map\n",
        "#plotting the price values less than 500 to make it much less messy\n",
        "prcs=df[df.price<500]\n",
        "\n",
        "grph1=prcs.plot(kind='scatter', x='longitude', y='latitude', label='Prices on the map', c='price',\n",
        "                  cmap=plt.get_cmap('plasma'), colorbar=True, alpha=1, figsize=(10,8))\n",
        "grph1.legend()"
      ],
      "execution_count": null,
      "outputs": [
        {
          "output_type": "stream",
          "text": [
            "Ratio of longitude of to latitude is: 1.2859147772642556\n"
          ],
          "name": "stdout"
        },
        {
          "output_type": "execute_result",
          "data": {
            "text/plain": [
              "<matplotlib.legend.Legend at 0x7fe6cf1fe240>"
            ]
          },
          "metadata": {
            "tags": []
          },
          "execution_count": 19
        },
        {
          "output_type": "display_data",
          "data": {
            "image/png": "[encoded data removed]",
            "text/plain": [
              "<Figure size 720x576 with 2 Axes>"
            ]
          },
          "metadata": {
            "tags": [],
            "needs_background": "light"
          }
        }
      ]
    },
    {
      "cell_type": "markdown",
      "metadata": {
        "id": "HjA1U_c0ri7m"
      },
      "source": [
        "After looking at the price values of each neighbourhood, I want to know the number of the each room type in the neighbourhoods."
      ]
    },
    {
      "cell_type": "code",
      "metadata": {
        "id": "kfPlN4K2r3Uw",
        "colab": {
          "base_uri": "https://localhost:8080/",
          "height": 354
        },
        "outputId": "51937019-7a15-4e4a-91cd-430fd294f806"
      },
      "source": [
        "#for each neighbourhood, extracting the room type information and putting to a list \n",
        "n1=df.loc[df[\"neighbourhood_group\"]==\"Brooklyn\"]\n",
        "rtype=n1[\"room_type\"]\n",
        "brokl_rtype=rtype.value_counts()\n",
        "y_val1=[brokl_rtype[\"Private room\"], brokl_rtype[\"Entire home/apt\"], brokl_rtype[\"Shared room\"]]\n",
        "\n",
        "n2=df.loc[df[\"neighbourhood_group\"]==\"Manhattan\"]\n",
        "rtype=n2[\"room_type\"]\n",
        "man_rtype=rtype.value_counts()\n",
        "y_val2=[man_rtype[\"Private room\"], man_rtype[\"Entire home/apt\"], man_rtype[\"Shared room\"]]\n",
        "\n",
        "n3=df.loc[df[\"neighbourhood_group\"]==\"Queens\"]\n",
        "rtype=n3[\"room_type\"]\n",
        "que_rtype=rtype.value_counts()\n",
        "y_val3=[que_rtype[\"Private room\"], que_rtype[\"Entire home/apt\"], que_rtype[\"Shared room\"]]\n",
        "\n",
        "n4=df.loc[df[\"neighbourhood_group\"]==\"Bronx\"]\n",
        "rtype=n4[\"room_type\"]\n",
        "brx_rtype=rtype.value_counts()\n",
        "y_val4=[brx_rtype[\"Private room\"], brx_rtype[\"Entire home/apt\"], brx_rtype[\"Shared room\"]]\n",
        "\n",
        "n5=df.loc[df[\"neighbourhood_group\"]==\"Staten Island\"]\n",
        "rtype=n5[\"room_type\"]\n",
        "si_rtype=rtype.value_counts()\n",
        "y_val5=[si_rtype[\"Private room\"], si_rtype[\"Entire home/apt\"], si_rtype[\"Shared room\"]]\n",
        "\n",
        "x_va=[\"Private Room\", \"Entire home/apt\", \"Shared room\"]\n",
        "\n",
        "\n",
        "#plotting the lists that are formed above in the same figure as subplots\n",
        "fig, axs = plt.subplots(1, 5, figsize=(30, 10), sharey=True)\n",
        "\n",
        "axs[0].bar(x_va, y_val1)\n",
        "axs[0].set_title(\"Brooklyn\")\n",
        "axs[1].bar(x_va, y_val2)\n",
        "axs[1].set_title(\"Manhattan\")\n",
        "axs[2].bar(x_va, y_val3)\n",
        "axs[2].set_title(\"Queens\")\n",
        "axs[3].bar(x_va, y_val4)\n",
        "axs[3].set_title(\"Bronx\")\n",
        "axs[4].bar(x_va, y_val5)\n",
        "axs[4].set_title(\"Staten Island\")\n",
        "fig.suptitle(\"Room types according to boroughs of New York City\")"
      ],
      "execution_count": null,
      "outputs": [
        {
          "output_type": "execute_result",
          "data": {
            "text/plain": [
              "Text(0.5, 0.98, 'Room types according to boroughs of New York City')"
            ]
          },
          "metadata": {
            "tags": []
          },
          "execution_count": 20
        },
        {
          "output_type": "display_data",
          "data": {
            "image/png": "[encoded data removed]",
            "text/plain": [
              "<Figure size 2160x720 with 5 Axes>"
            ]
          },
          "metadata": {
            "tags": [],
            "needs_background": "light"
          }
        }
      ]
    },
    {
      "cell_type": "markdown",
      "metadata": {
        "id": "sTodmneuq4rx"
      },
      "source": [
        "Afterwards, I also want to know the statistics of the relationship between the prices and the room types."
      ]
    },
    {
      "cell_type": "code",
      "metadata": {
        "id": "cg61GBslq3rP",
        "colab": {
          "base_uri": "https://localhost:8080/",
          "height": 297
        },
        "outputId": "64d4b820-c792-45c5-8036-092a92b93d97"
      },
      "source": [
        "#creating a new dataframe to see the prices clearly\n",
        "index=range(0, len(df))\n",
        "df_r=pd.DataFrame(index=index)\n",
        "\n",
        "#storing the price info according to the room type\n",
        "r1=df.loc[df[\"room_type\"]==\"Private room\"]\n",
        "price_r1=r1[\"price\"]\n",
        "df_r[\"private_room_prices\"]=price_r1\n",
        "\n",
        "r2=df.loc[df[\"room_type\"]==\"Entire home/apt\"]\n",
        "price_r2=r2[\"price\"]\n",
        "df_r[\"entire_home_prices\"]=price_r2\n",
        "\n",
        "r3=df.loc[df[\"room_type\"]==\"Shared room\"]\n",
        "price_r3=r3[\"price\"]\n",
        "df_r[\"shared_room_prices\"]=price_r3\n",
        "\n",
        "#print(df_r)\n",
        "df_r.describe()"
      ],
      "execution_count": null,
      "outputs": [
        {
          "output_type": "execute_result",
          "data": {
            "text/html": [
              "<div>\n",
              "<style scoped>\n",
              "    .dataframe tbody tr th:only-of-type {\n",
              "        vertical-align: middle;\n",
              "    }\n",
              "\n",
              "    .dataframe tbody tr th {\n",
              "        vertical-align: top;\n",
              "    }\n",
              "\n",
              "    .dataframe thead th {\n",
              "        text-align: right;\n",
              "    }\n",
              "</style>\n",
              "<table border=\"1\" class=\"dataframe\">\n",
              "  <thead>\n",
              "    <tr style=\"text-align: right;\">\n",
              "      <th></th>\n",
              "      <th>private_room_prices</th>\n",
              "      <th>entire_home_prices</th>\n",
              "      <th>shared_room_prices</th>\n",
              "    </tr>\n",
              "  </thead>\n",
              "  <tbody>\n",
              "    <tr>\n",
              "      <th>count</th>\n",
              "      <td>22326.000000</td>\n",
              "      <td>25409.000000</td>\n",
              "      <td>1160.000000</td>\n",
              "    </tr>\n",
              "    <tr>\n",
              "      <th>mean</th>\n",
              "      <td>89.780973</td>\n",
              "      <td>211.794246</td>\n",
              "      <td>70.127586</td>\n",
              "    </tr>\n",
              "    <tr>\n",
              "      <th>std</th>\n",
              "      <td>160.205262</td>\n",
              "      <td>284.041611</td>\n",
              "      <td>101.725252</td>\n",
              "    </tr>\n",
              "    <tr>\n",
              "      <th>min</th>\n",
              "      <td>0.000000</td>\n",
              "      <td>0.000000</td>\n",
              "      <td>0.000000</td>\n",
              "    </tr>\n",
              "    <tr>\n",
              "      <th>25%</th>\n",
              "      <td>50.000000</td>\n",
              "      <td>120.000000</td>\n",
              "      <td>33.000000</td>\n",
              "    </tr>\n",
              "    <tr>\n",
              "      <th>50%</th>\n",
              "      <td>70.000000</td>\n",
              "      <td>160.000000</td>\n",
              "      <td>45.000000</td>\n",
              "    </tr>\n",
              "    <tr>\n",
              "      <th>75%</th>\n",
              "      <td>95.000000</td>\n",
              "      <td>229.000000</td>\n",
              "      <td>75.000000</td>\n",
              "    </tr>\n",
              "    <tr>\n",
              "      <th>max</th>\n",
              "      <td>10000.000000</td>\n",
              "      <td>10000.000000</td>\n",
              "      <td>1800.000000</td>\n",
              "    </tr>\n",
              "  </tbody>\n",
              "</table>\n",
              "</div>"
            ],
            "text/plain": [
              "       private_room_prices  entire_home_prices  shared_room_prices\n",
              "count         22326.000000        25409.000000         1160.000000\n",
              "mean             89.780973          211.794246           70.127586\n",
              "std             160.205262          284.041611          101.725252\n",
              "min               0.000000            0.000000            0.000000\n",
              "25%              50.000000          120.000000           33.000000\n",
              "50%              70.000000          160.000000           45.000000\n",
              "75%              95.000000          229.000000           75.000000\n",
              "max           10000.000000        10000.000000         1800.000000"
            ]
          },
          "metadata": {
            "tags": []
          },
          "execution_count": 21
        }
      ]
    },
    {
      "cell_type": "markdown",
      "metadata": {
        "id": "XzOvUkakrbCD"
      },
      "source": [
        "And finally, I want to see the prices in each neighbourhoods next to the arrest data from the second dataset. "
      ]
    },
    {
      "cell_type": "code",
      "metadata": {
        "id": "0Chxwbg4sjUr",
        "colab": {
          "base_uri": "https://localhost:8080/",
          "height": 545
        },
        "outputId": "e5477f57-5add-4742-9fae-ba019aeab1c5"
      },
      "source": [
        "#making lists to compare arrest and neighbourhood price\n",
        "x_values=[\"Manhattan\", \"Brooklyn\", \"Bronx\", \"Staten Island\",\"Queens\" ]\n",
        "y_vals= [df_n[\"manhattan_prices\"].mean(),df_n[\"brooklyn_prices\"].mean(), df_n[\"bronx_prices\"].mean(), df_n[\"staten_island_prices\"].mean(), df_n[\"queens_prices\"].mean()]\n",
        "oty_vals=[((ad['ARREST_BORO'] == \"Manhattan\").sum()),(ad['ARREST_BORO'] == \"Brooklyn\").sum(),(ad['ARREST_BORO'] == \"Bronx\").sum(),(ad['ARREST_BORO'] == \"Staten Island\").sum(), (ad['ARREST_BORO'] == \"Queens\").sum()]\n",
        "\n",
        "#plotting the graphs\n",
        "plt.title(\"Prices\")\n",
        "plt.plot(x_values, y_vals)\n",
        "plt.show()\n",
        "\n",
        "plt.title(\"Arrest Data\")\n",
        "plt.plot(x_values, oty_vals)\n",
        "plt.show()"
      ],
      "execution_count": null,
      "outputs": [
        {
          "output_type": "display_data",
          "data": {
            "image/png": "[encoded data removed]",
            "text/plain": [
              "<Figure size 432x288 with 1 Axes>"
            ]
          },
          "metadata": {
            "tags": [],
            "needs_background": "light"
          }
        },
        {
          "output_type": "display_data",
          "data": {
            "image/png": "[encoded data removed]",
            "text/plain": [
              "<Figure size 432x288 with 1 Axes>"
            ]
          },
          "metadata": {
            "tags": [],
            "needs_background": "light"
          }
        }
      ]
    },
    {
      "cell_type": "markdown",
      "metadata": {
        "id": "XCjVG4cts0OW"
      },
      "source": [
        "###Hypothesis Testing\n",
        "\n",
        "After visualizing the data and looking at the relationships between different variables, I'm comfortable to form a hypothesis to test. "
      ]
    },
    {
      "cell_type": "markdown",
      "metadata": {
        "id": "-rxkylrPt9VP"
      },
      "source": [
        "After observing the datasets, I realized that the first dataset has too many outliers. However, I want to prove my observation by making a graph and see it from there. "
      ]
    },
    {
      "cell_type": "code",
      "metadata": {
        "id": "uv34fIqLui89",
        "colab": {
          "base_uri": "https://localhost:8080/",
          "height": 610
        },
        "outputId": "cb9d584e-1692-4d6d-c9cd-e43363948328"
      },
      "source": [
        "#plotting some of the info to see outliers\n",
        "\n",
        "#initiating the graphs\n",
        "plt.figure(figsize = (15, 10))\n",
        "plt.style.use('seaborn-white')\n",
        "#plotting number of reviews\n",
        "ax=plt.subplot(221)\n",
        "plt.boxplot(df['number_of_reviews'])\n",
        "ax.set_title('Number of Reviews')\n",
        "#plotting price\n",
        "ax=plt.subplot(222)\n",
        "plt.boxplot(df['price'])\n",
        "ax.set_title('Price')\n",
        "#plotting availability\n",
        "ax=plt.subplot(223)\n",
        "plt.boxplot(df['availability_365'])\n",
        "ax.set_title('availability_365')"
      ],
      "execution_count": null,
      "outputs": [
        {
          "output_type": "execute_result",
          "data": {
            "text/plain": [
              "Text(0.5, 1.0, 'availability_365')"
            ]
          },
          "metadata": {
            "tags": []
          },
          "execution_count": 23
        },
        {
          "output_type": "display_data",
          "data": {
            "image/png": "[encoded data removed]",
            "text/plain": [
              "<Figure size 1080x720 with 3 Axes>"
            ]
          },
          "metadata": {
            "tags": [],
            "needs_background": "light"
          }
        }
      ]
    },
    {
      "cell_type": "markdown",
      "metadata": {
        "id": "XIs5V2XlulNs"
      },
      "source": [
        "As seen on the graph, there are too many outliers of the data, so I will get rid of this outliers using the IQR technique so that the hypothesis testing can be more accurate."
      ]
    },
    {
      "cell_type": "code",
      "metadata": {
        "id": "WWwr7dHHvCh0",
        "colab": {
          "base_uri": "https://localhost:8080/",
          "height": 326
        },
        "outputId": "66e33259-1b36-41ba-fe3d-c4d519c24cd6"
      },
      "source": [
        "#finding IQR\n",
        "Q1 = df.quantile(0.25)\n",
        "Q3 = df.quantile(0.75)\n",
        "IQR = Q3 - Q1\n",
        "#removing outliers\n",
        "df_out = df[~((df < (Q1 - 1.5 * IQR)) |(df > (Q3 + 1.5 * IQR))).any(axis=1)]\n",
        "print(df_out.shape)\n",
        "df_out.head()"
      ],
      "execution_count": null,
      "outputs": [
        {
          "output_type": "stream",
          "text": [
            "(28363, 12)\n"
          ],
          "name": "stdout"
        },
        {
          "output_type": "execute_result",
          "data": {
            "text/html": [
              "<div>\n",
              "<style scoped>\n",
              "    .dataframe tbody tr th:only-of-type {\n",
              "        vertical-align: middle;\n",
              "    }\n",
              "\n",
              "    .dataframe tbody tr th {\n",
              "        vertical-align: top;\n",
              "    }\n",
              "\n",
              "    .dataframe thead th {\n",
              "        text-align: right;\n",
              "    }\n",
              "</style>\n",
              "<table border=\"1\" class=\"dataframe\">\n",
              "  <thead>\n",
              "    <tr style=\"text-align: right;\">\n",
              "      <th></th>\n",
              "      <th>id</th>\n",
              "      <th>host_id</th>\n",
              "      <th>neighbourhood_group</th>\n",
              "      <th>neighbourhood</th>\n",
              "      <th>latitude</th>\n",
              "      <th>longitude</th>\n",
              "      <th>room_type</th>\n",
              "      <th>price</th>\n",
              "      <th>minimum_nights</th>\n",
              "      <th>number_of_reviews</th>\n",
              "      <th>calculated_host_listings_count</th>\n",
              "      <th>availability_365</th>\n",
              "    </tr>\n",
              "  </thead>\n",
              "  <tbody>\n",
              "    <tr>\n",
              "      <th>1</th>\n",
              "      <td>2595</td>\n",
              "      <td>2845</td>\n",
              "      <td>Manhattan</td>\n",
              "      <td>Midtown</td>\n",
              "      <td>40.75362</td>\n",
              "      <td>-73.98377</td>\n",
              "      <td>Entire home/apt</td>\n",
              "      <td>225</td>\n",
              "      <td>1</td>\n",
              "      <td>45</td>\n",
              "      <td>2</td>\n",
              "      <td>355</td>\n",
              "    </tr>\n",
              "    <tr>\n",
              "      <th>2</th>\n",
              "      <td>3647</td>\n",
              "      <td>4632</td>\n",
              "      <td>Manhattan</td>\n",
              "      <td>Harlem</td>\n",
              "      <td>40.80902</td>\n",
              "      <td>-73.94190</td>\n",
              "      <td>Private room</td>\n",
              "      <td>150</td>\n",
              "      <td>3</td>\n",
              "      <td>0</td>\n",
              "      <td>1</td>\n",
              "      <td>365</td>\n",
              "    </tr>\n",
              "    <tr>\n",
              "      <th>4</th>\n",
              "      <td>5022</td>\n",
              "      <td>7192</td>\n",
              "      <td>Manhattan</td>\n",
              "      <td>East Harlem</td>\n",
              "      <td>40.79851</td>\n",
              "      <td>-73.94399</td>\n",
              "      <td>Entire home/apt</td>\n",
              "      <td>80</td>\n",
              "      <td>10</td>\n",
              "      <td>9</td>\n",
              "      <td>1</td>\n",
              "      <td>0</td>\n",
              "    </tr>\n",
              "    <tr>\n",
              "      <th>10</th>\n",
              "      <td>5295</td>\n",
              "      <td>7702</td>\n",
              "      <td>Manhattan</td>\n",
              "      <td>Upper West Side</td>\n",
              "      <td>40.80316</td>\n",
              "      <td>-73.96545</td>\n",
              "      <td>Entire home/apt</td>\n",
              "      <td>135</td>\n",
              "      <td>5</td>\n",
              "      <td>53</td>\n",
              "      <td>1</td>\n",
              "      <td>6</td>\n",
              "    </tr>\n",
              "    <tr>\n",
              "      <th>18</th>\n",
              "      <td>7726</td>\n",
              "      <td>20950</td>\n",
              "      <td>Brooklyn</td>\n",
              "      <td>Crown Heights</td>\n",
              "      <td>40.67592</td>\n",
              "      <td>-73.94694</td>\n",
              "      <td>Entire home/apt</td>\n",
              "      <td>99</td>\n",
              "      <td>3</td>\n",
              "      <td>53</td>\n",
              "      <td>1</td>\n",
              "      <td>21</td>\n",
              "    </tr>\n",
              "  </tbody>\n",
              "</table>\n",
              "</div>"
            ],
            "text/plain": [
              "      id  host_id  ... calculated_host_listings_count availability_365\n",
              "1   2595     2845  ...                              2              355\n",
              "2   3647     4632  ...                              1              365\n",
              "4   5022     7192  ...                              1                0\n",
              "10  5295     7702  ...                              1                6\n",
              "18  7726    20950  ...                              1               21\n",
              "\n",
              "[5 rows x 12 columns]"
            ]
          },
          "metadata": {
            "tags": []
          },
          "execution_count": 24
        }
      ]
    },
    {
      "cell_type": "markdown",
      "metadata": {
        "id": "ErePU3mzvSi-"
      },
      "source": [
        "####Hypothesis 1\n",
        "Null hypothesis: Different neighbourhoods have no effect on the price of the Airbnb listing."
      ]
    },
    {
      "cell_type": "markdown",
      "metadata": {
        "id": "GfjFKu_UvWYK"
      },
      "source": [
        "However, to test this hypothesis, I have to change the neighbourhood values to integer values. I am assigning the integer values of the neighbourhood according to the mean of prices I found earlier. So if the avarage price of the neighbourhood is higher, the integer value I am giving will also be higher. "
      ]
    },
    {
      "cell_type": "code",
      "metadata": {
        "id": "0maXpmQUvNat",
        "colab": {
          "base_uri": "https://localhost:8080/",
          "height": 34
        },
        "outputId": "1690f1d8-f04f-4ca1-f27e-486452e32ea7"
      },
      "source": [
        "#changing values \n",
        "df=df.replace(to_replace=\"Brooklyn\", value=4)\n",
        "df=df.replace(to_replace=\"Manhattan\", value=5)\n",
        "df=df.replace(to_replace=\"Queens\", value=3)\n",
        "df=df.replace(to_replace=\"Staten Island\", value=2)\n",
        "df=df.replace(to_replace=\"Bronx\", value=1)\n",
        "#calculating the pearson correlation\n",
        "#first value is correlation second is the p-value\n",
        "stats.pearsonr(df[\"price\"], df['neighbourhood_group'])"
      ],
      "execution_count": null,
      "outputs": [
        {
          "output_type": "execute_result",
          "data": {
            "text/plain": [
              "(0.14945464766098396, 3.511890481674288e-242)"
            ]
          },
          "metadata": {
            "tags": []
          },
          "execution_count": 25
        }
      ]
    },
    {
      "cell_type": "markdown",
      "metadata": {
        "id": "Kv6iddZowDui"
      },
      "source": [
        "As the p-value is lower than the signifance level, the test is significant. From the correlation coefficient, we can conclude that the relationship is positively correlated which means we can reject the null hypothesis. "
      ]
    },
    {
      "cell_type": "markdown",
      "metadata": {
        "id": "6IVgHsVZt33A"
      },
      "source": [
        "####Hypothesis 2\n",
        "\n",
        "Null hypothesis: Room type has no effect on the price of the listing. \n",
        "\n",
        "Since I need integer values for the room type column of the dataset, I will change the values according to the prices I found earlier. So if the avarage price is higher, the integer values I am giving will alsı be higher. \n",
        "\n"
      ]
    },
    {
      "cell_type": "code",
      "metadata": {
        "id": "fy_dpOAnxHIo",
        "colab": {
          "base_uri": "https://localhost:8080/",
          "height": 34
        },
        "outputId": "34e6b9b8-86da-4469-ab1d-e12a50b3afae"
      },
      "source": [
        "#changing values\n",
        "df=df.replace(to_replace=\"Private room\", value=3)\n",
        "df=df.replace(to_replace=\"Entire home/apt\", value=2)\n",
        "df=df.replace(to_replace=\"Shared room\", value=1)\n",
        "#calculating the pearson correlation\n",
        "#first value is correlation second is the p-value\n",
        "stats.pearsonr(df[\"price\"], df['room_type'])"
      ],
      "execution_count": null,
      "outputs": [
        {
          "output_type": "execute_result",
          "data": {
            "text/plain": [
              "(-0.20602706991491, 0.0)"
            ]
          },
          "metadata": {
            "tags": []
          },
          "execution_count": 26
        }
      ]
    },
    {
      "cell_type": "markdown",
      "metadata": {
        "id": "oXMPbcbTxjgp"
      },
      "source": [
        "Since the p-value is greater than the signifigance level, we have to conclude that the test has no signifigance."
      ]
    },
    {
      "cell_type": "markdown",
      "metadata": {
        "id": "znnd9CqRx314"
      },
      "source": [
        "####Hypothesis 3\n",
        "\n",
        "Null hypothesis: Crime in the neighbourhoods has no effect on the prices."
      ]
    },
    {
      "cell_type": "markdown",
      "metadata": {
        "id": "hv3g2fruyJtN"
      },
      "source": [
        "I will use t-test for this hypothesis and I will look at the Brooklyn and Staten Island prices since Brooklyn has the biggest arrest rate and Staten Island has the lowest."
      ]
    },
    {
      "cell_type": "code",
      "metadata": {
        "id": "zwQFtC3FyCVq",
        "colab": {
          "base_uri": "https://localhost:8080/",
          "height": 414
        },
        "outputId": "aa71a9f0-28ae-41fa-80f4-99378729bf57"
      },
      "source": [
        "#initiating graphs\n",
        "fig, ax = plt.subplots(1, 3, figsize=(14,6)) \n",
        "\n",
        "#creating a new dataframe to store information\n",
        "#brooklyn info\n",
        "df_n_cut_b=df_n[df_n.brooklyn_prices<500]\n",
        "brooklyn_p=df_n_cut_b[\"brooklyn_prices\"]\n",
        "#staten island info\n",
        "df_n_cut_s=df_n[df_n.staten_island_prices<500]\n",
        "staten_p=df_n_cut_s[\"staten_island_prices\"]\n",
        "\n",
        "#plotting the info on to the graphs\n",
        "brooklyn_p.plot(kind=\"hist\", ax=ax[0], bins=40, label=\"Brooklyn\", color=\"c\")\n",
        "ax[0].set_title(\"Brooklyn\")\n",
        "\n",
        "staten_p.plot(kind=\"hist\", ax=ax[1], bins=40, label=\"Staten Island\", color=\"m\")\n",
        "ax[1].set_title(\"Staten Island\")\n",
        "\n",
        "#plotting the comparison\n",
        "sns.kdeplot(brooklyn_p, shade=True, label=\"Brooklyn\", ax=ax[2], color=\"c\")\n",
        "sns.kdeplot(staten_p, shade=True, label=\"Staten Island\", ax=ax[2], color=\"m\")\n",
        "ax[2].set_title(\"Comparison\")\n",
        "\n",
        "plt.suptitle(\"Price Distributions\")\n",
        "plt.show()\n"
      ],
      "execution_count": null,
      "outputs": [
        {
          "output_type": "display_data",
          "data": {
            "image/png": "[encoded data removed]",
            "text/plain": [
              "<Figure size 1008x432 with 3 Axes>"
            ]
          },
          "metadata": {
            "tags": []
          }
        }
      ]
    },
    {
      "cell_type": "code",
      "metadata": {
        "id": "J7cwvlEWyiie",
        "colab": {
          "base_uri": "https://localhost:8080/",
          "height": 34
        },
        "outputId": "66974f7e-3c87-4367-c8b7-47f70722971c"
      },
      "source": [
        "#t-test\n",
        "#first value is correlation second is the p-value\n",
        "stats.ttest_ind(brooklyn_p, staten_p, equal_var=False)"
      ],
      "execution_count": null,
      "outputs": [
        {
          "output_type": "execute_result",
          "data": {
            "text/plain": [
              "Ttest_indResult(statistic=6.152172208453047, pvalue=1.9197258803702475e-09)"
            ]
          },
          "metadata": {
            "tags": []
          },
          "execution_count": 28
        }
      ]
    },
    {
      "cell_type": "markdown",
      "metadata": {
        "id": "X_FeNuuDymuR"
      },
      "source": [
        "P-value of this test less than the signifigance level, so our test is significant so we can reject the null hypothesis. "
      ]
    },
    {
      "cell_type": "markdown",
      "metadata": {
        "id": "gWoY8F-v4ZU0"
      },
      "source": [
        "## Machine Learning Models\n"
      ]
    },
    {
      "cell_type": "markdown",
      "metadata": {
        "id": "67QXh8uI4c9V"
      },
      "source": [
        "### Implementation\n",
        "\n",
        "Before starting any machine learning models, I should change the values of room type and neighbourhood columns in the dataset since I need integer values for those. This time I will give the integer values of the neighbourhood according to the arrest data while giving the integer values of the room types according to the price. Also I'm dropping the neighbourhood column as the values of this column are string and I need to change it into integer however since I don't need the information I will just be dropping the column instead."
      ]
    },
    {
      "cell_type": "code",
      "metadata": {
        "id": "Bu8_mvyh027K",
        "colab": {
          "base_uri": "https://localhost:8080/",
          "height": 439
        },
        "outputId": "52934975-0742-45a6-f569-94b058aa5070"
      },
      "source": [
        "#dropping out neighbouthood \n",
        "df_out.drop([ \"neighbourhood\"], axis=1, inplace=True)\n",
        "\n",
        "#changing values\n",
        "df_out=df_out.replace(to_replace=\"Private room\", value=3)\n",
        "df_out=df_out.replace(to_replace=\"Entire home/apt\", value=2)\n",
        "df_out=df_out.replace(to_replace=\"Shared room\", value=1)\n",
        "\n",
        "#changing values\n",
        "df_out=df_out.replace(to_replace=\"Brooklyn\", value=5)\n",
        "df_out=df_out.replace(to_replace=\"Manhattan\", value=4)\n",
        "df_out=df_out.replace(to_replace=\"Queens\", value=2)\n",
        "df_out=df_out.replace(to_replace=\"Staten Island\", value=1)\n",
        "df_out=df_out.replace(to_replace=\"Bronx\", value=3)\n",
        "df_out"
      ],
      "execution_count": null,
      "outputs": [
        {
          "output_type": "execute_result",
          "data": {
            "text/html": [
              "<div>\n",
              "<style scoped>\n",
              "    .dataframe tbody tr th:only-of-type {\n",
              "        vertical-align: middle;\n",
              "    }\n",
              "\n",
              "    .dataframe tbody tr th {\n",
              "        vertical-align: top;\n",
              "    }\n",
              "\n",
              "    .dataframe thead th {\n",
              "        text-align: right;\n",
              "    }\n",
              "</style>\n",
              "<table border=\"1\" class=\"dataframe\">\n",
              "  <thead>\n",
              "    <tr style=\"text-align: right;\">\n",
              "      <th></th>\n",
              "      <th>id</th>\n",
              "      <th>host_id</th>\n",
              "      <th>neighbourhood_group</th>\n",
              "      <th>latitude</th>\n",
              "      <th>longitude</th>\n",
              "      <th>room_type</th>\n",
              "      <th>price</th>\n",
              "      <th>minimum_nights</th>\n",
              "      <th>number_of_reviews</th>\n",
              "      <th>calculated_host_listings_count</th>\n",
              "      <th>availability_365</th>\n",
              "    </tr>\n",
              "  </thead>\n",
              "  <tbody>\n",
              "    <tr>\n",
              "      <th>1</th>\n",
              "      <td>2595</td>\n",
              "      <td>2845</td>\n",
              "      <td>4</td>\n",
              "      <td>40.75362</td>\n",
              "      <td>-73.98377</td>\n",
              "      <td>2</td>\n",
              "      <td>225</td>\n",
              "      <td>1</td>\n",
              "      <td>45</td>\n",
              "      <td>2</td>\n",
              "      <td>355</td>\n",
              "    </tr>\n",
              "    <tr>\n",
              "      <th>2</th>\n",
              "      <td>3647</td>\n",
              "      <td>4632</td>\n",
              "      <td>4</td>\n",
              "      <td>40.80902</td>\n",
              "      <td>-73.94190</td>\n",
              "      <td>3</td>\n",
              "      <td>150</td>\n",
              "      <td>3</td>\n",
              "      <td>0</td>\n",
              "      <td>1</td>\n",
              "      <td>365</td>\n",
              "    </tr>\n",
              "    <tr>\n",
              "      <th>4</th>\n",
              "      <td>5022</td>\n",
              "      <td>7192</td>\n",
              "      <td>4</td>\n",
              "      <td>40.79851</td>\n",
              "      <td>-73.94399</td>\n",
              "      <td>2</td>\n",
              "      <td>80</td>\n",
              "      <td>10</td>\n",
              "      <td>9</td>\n",
              "      <td>1</td>\n",
              "      <td>0</td>\n",
              "    </tr>\n",
              "    <tr>\n",
              "      <th>10</th>\n",
              "      <td>5295</td>\n",
              "      <td>7702</td>\n",
              "      <td>4</td>\n",
              "      <td>40.80316</td>\n",
              "      <td>-73.96545</td>\n",
              "      <td>2</td>\n",
              "      <td>135</td>\n",
              "      <td>5</td>\n",
              "      <td>53</td>\n",
              "      <td>1</td>\n",
              "      <td>6</td>\n",
              "    </tr>\n",
              "    <tr>\n",
              "      <th>18</th>\n",
              "      <td>7726</td>\n",
              "      <td>20950</td>\n",
              "      <td>5</td>\n",
              "      <td>40.67592</td>\n",
              "      <td>-73.94694</td>\n",
              "      <td>2</td>\n",
              "      <td>99</td>\n",
              "      <td>3</td>\n",
              "      <td>53</td>\n",
              "      <td>1</td>\n",
              "      <td>21</td>\n",
              "    </tr>\n",
              "    <tr>\n",
              "      <th>...</th>\n",
              "      <td>...</td>\n",
              "      <td>...</td>\n",
              "      <td>...</td>\n",
              "      <td>...</td>\n",
              "      <td>...</td>\n",
              "      <td>...</td>\n",
              "      <td>...</td>\n",
              "      <td>...</td>\n",
              "      <td>...</td>\n",
              "      <td>...</td>\n",
              "      <td>...</td>\n",
              "    </tr>\n",
              "    <tr>\n",
              "      <th>48887</th>\n",
              "      <td>36483152</td>\n",
              "      <td>208514239</td>\n",
              "      <td>5</td>\n",
              "      <td>40.71232</td>\n",
              "      <td>-73.94220</td>\n",
              "      <td>2</td>\n",
              "      <td>170</td>\n",
              "      <td>1</td>\n",
              "      <td>0</td>\n",
              "      <td>3</td>\n",
              "      <td>365</td>\n",
              "    </tr>\n",
              "    <tr>\n",
              "      <th>48890</th>\n",
              "      <td>36484665</td>\n",
              "      <td>8232441</td>\n",
              "      <td>5</td>\n",
              "      <td>40.67853</td>\n",
              "      <td>-73.94995</td>\n",
              "      <td>3</td>\n",
              "      <td>70</td>\n",
              "      <td>2</td>\n",
              "      <td>0</td>\n",
              "      <td>2</td>\n",
              "      <td>9</td>\n",
              "    </tr>\n",
              "    <tr>\n",
              "      <th>48891</th>\n",
              "      <td>36485057</td>\n",
              "      <td>6570630</td>\n",
              "      <td>5</td>\n",
              "      <td>40.70184</td>\n",
              "      <td>-73.93317</td>\n",
              "      <td>3</td>\n",
              "      <td>40</td>\n",
              "      <td>4</td>\n",
              "      <td>0</td>\n",
              "      <td>2</td>\n",
              "      <td>36</td>\n",
              "    </tr>\n",
              "    <tr>\n",
              "      <th>48892</th>\n",
              "      <td>36485431</td>\n",
              "      <td>23492952</td>\n",
              "      <td>4</td>\n",
              "      <td>40.81475</td>\n",
              "      <td>-73.94867</td>\n",
              "      <td>2</td>\n",
              "      <td>115</td>\n",
              "      <td>10</td>\n",
              "      <td>0</td>\n",
              "      <td>1</td>\n",
              "      <td>27</td>\n",
              "    </tr>\n",
              "    <tr>\n",
              "      <th>48894</th>\n",
              "      <td>36487245</td>\n",
              "      <td>68119814</td>\n",
              "      <td>4</td>\n",
              "      <td>40.76404</td>\n",
              "      <td>-73.98933</td>\n",
              "      <td>3</td>\n",
              "      <td>90</td>\n",
              "      <td>7</td>\n",
              "      <td>0</td>\n",
              "      <td>1</td>\n",
              "      <td>23</td>\n",
              "    </tr>\n",
              "  </tbody>\n",
              "</table>\n",
              "<p>28363 rows × 11 columns</p>\n",
              "</div>"
            ],
            "text/plain": [
              "             id    host_id  ...  calculated_host_listings_count  availability_365\n",
              "1          2595       2845  ...                               2               355\n",
              "2          3647       4632  ...                               1               365\n",
              "4          5022       7192  ...                               1                 0\n",
              "10         5295       7702  ...                               1                 6\n",
              "18         7726      20950  ...                               1                21\n",
              "...         ...        ...  ...                             ...               ...\n",
              "48887  36483152  208514239  ...                               3               365\n",
              "48890  36484665    8232441  ...                               2                 9\n",
              "48891  36485057    6570630  ...                               2                36\n",
              "48892  36485431   23492952  ...                               1                27\n",
              "48894  36487245   68119814  ...                               1                23\n",
              "\n",
              "[28363 rows x 11 columns]"
            ]
          },
          "metadata": {
            "tags": []
          },
          "execution_count": 29
        }
      ]
    },
    {
      "cell_type": "markdown",
      "metadata": {
        "id": "U6BvAKCs08P4"
      },
      "source": [
        "I will also standardize the data before doing anything so the result will be more accurate.\n",
        "\n",
        "\n"
      ]
    },
    {
      "cell_type": "code",
      "metadata": {
        "id": "wWTTZ5cE1PCi",
        "colab": {
          "base_uri": "https://localhost:8080/",
          "height": 224
        },
        "outputId": "f302e626-5662-425d-e4b3-6b627671c23c"
      },
      "source": [
        "#calculating mean and standard deviation\n",
        "mean = df_out['price'].mean()\n",
        "std = df_out['price'].std()\n",
        "\n",
        "#standardization\n",
        "df_out['standardized'] = (df_out['price'] - mean) / std\n",
        "df_out.head()"
      ],
      "execution_count": null,
      "outputs": [
        {
          "output_type": "execute_result",
          "data": {
            "text/html": [
              "<div>\n",
              "<style scoped>\n",
              "    .dataframe tbody tr th:only-of-type {\n",
              "        vertical-align: middle;\n",
              "    }\n",
              "\n",
              "    .dataframe tbody tr th {\n",
              "        vertical-align: top;\n",
              "    }\n",
              "\n",
              "    .dataframe thead th {\n",
              "        text-align: right;\n",
              "    }\n",
              "</style>\n",
              "<table border=\"1\" class=\"dataframe\">\n",
              "  <thead>\n",
              "    <tr style=\"text-align: right;\">\n",
              "      <th></th>\n",
              "      <th>id</th>\n",
              "      <th>host_id</th>\n",
              "      <th>neighbourhood_group</th>\n",
              "      <th>latitude</th>\n",
              "      <th>longitude</th>\n",
              "      <th>room_type</th>\n",
              "      <th>price</th>\n",
              "      <th>minimum_nights</th>\n",
              "      <th>number_of_reviews</th>\n",
              "      <th>calculated_host_listings_count</th>\n",
              "      <th>availability_365</th>\n",
              "      <th>standardized</th>\n",
              "    </tr>\n",
              "  </thead>\n",
              "  <tbody>\n",
              "    <tr>\n",
              "      <th>1</th>\n",
              "      <td>2595</td>\n",
              "      <td>2845</td>\n",
              "      <td>4</td>\n",
              "      <td>40.75362</td>\n",
              "      <td>-73.98377</td>\n",
              "      <td>2</td>\n",
              "      <td>225</td>\n",
              "      <td>1</td>\n",
              "      <td>45</td>\n",
              "      <td>2</td>\n",
              "      <td>355</td>\n",
              "      <td>1.546159</td>\n",
              "    </tr>\n",
              "    <tr>\n",
              "      <th>2</th>\n",
              "      <td>3647</td>\n",
              "      <td>4632</td>\n",
              "      <td>4</td>\n",
              "      <td>40.80902</td>\n",
              "      <td>-73.94190</td>\n",
              "      <td>3</td>\n",
              "      <td>150</td>\n",
              "      <td>3</td>\n",
              "      <td>0</td>\n",
              "      <td>1</td>\n",
              "      <td>365</td>\n",
              "      <td>0.422125</td>\n",
              "    </tr>\n",
              "    <tr>\n",
              "      <th>4</th>\n",
              "      <td>5022</td>\n",
              "      <td>7192</td>\n",
              "      <td>4</td>\n",
              "      <td>40.79851</td>\n",
              "      <td>-73.94399</td>\n",
              "      <td>2</td>\n",
              "      <td>80</td>\n",
              "      <td>10</td>\n",
              "      <td>9</td>\n",
              "      <td>1</td>\n",
              "      <td>0</td>\n",
              "      <td>-0.626973</td>\n",
              "    </tr>\n",
              "    <tr>\n",
              "      <th>10</th>\n",
              "      <td>5295</td>\n",
              "      <td>7702</td>\n",
              "      <td>4</td>\n",
              "      <td>40.80316</td>\n",
              "      <td>-73.96545</td>\n",
              "      <td>2</td>\n",
              "      <td>135</td>\n",
              "      <td>5</td>\n",
              "      <td>53</td>\n",
              "      <td>1</td>\n",
              "      <td>6</td>\n",
              "      <td>0.197319</td>\n",
              "    </tr>\n",
              "    <tr>\n",
              "      <th>18</th>\n",
              "      <td>7726</td>\n",
              "      <td>20950</td>\n",
              "      <td>5</td>\n",
              "      <td>40.67592</td>\n",
              "      <td>-73.94694</td>\n",
              "      <td>2</td>\n",
              "      <td>99</td>\n",
              "      <td>3</td>\n",
              "      <td>53</td>\n",
              "      <td>1</td>\n",
              "      <td>21</td>\n",
              "      <td>-0.342218</td>\n",
              "    </tr>\n",
              "  </tbody>\n",
              "</table>\n",
              "</div>"
            ],
            "text/plain": [
              "      id  host_id  ...  availability_365  standardized\n",
              "1   2595     2845  ...               355      1.546159\n",
              "2   3647     4632  ...               365      0.422125\n",
              "4   5022     7192  ...                 0     -0.626973\n",
              "10  5295     7702  ...                 6      0.197319\n",
              "18  7726    20950  ...                21     -0.342218\n",
              "\n",
              "[5 rows x 12 columns]"
            ]
          },
          "metadata": {
            "tags": []
          },
          "execution_count": 30
        }
      ]
    },
    {
      "cell_type": "markdown",
      "metadata": {
        "id": "BTz91KDZzhAs"
      },
      "source": [
        "####kNN\n",
        "In this section I will use model with the kNN. "
      ]
    },
    {
      "cell_type": "code",
      "metadata": {
        "id": "Cw_Xg_iO1WM8",
        "colab": {
          "base_uri": "https://localhost:8080/",
          "height": 400
        },
        "outputId": "73000f59-092d-4b78-bb0d-7f38624c900b"
      },
      "source": [
        "X = df_out.drop(\"price\", axis=1)\n",
        "y = df_out[\"price\"]\n",
        "train_x, val_x, train_y, val_y = train_test_split(X, y, random_state=1)\n",
        "\n",
        "\n",
        "# 80% training,20% testing-validation\n",
        "X_train, X_remaining, y_train, y_remaining = train_test_split(X, y, test_size=0.20, random_state=1)\n",
        "# 10% validation, 10% test\n",
        "X_test, X_val, y_test, y_val = train_test_split(X_remaining, y_remaining, test_size=0.50, random_state=1)\n",
        "\n",
        "\n",
        "K_range = np.arange(1, 10)\n",
        "accuracy_list = []\n",
        "\n",
        "#creating new model with K, fitting, predicting \n",
        "for k in K_range:\n",
        "  knn = KNeighborsClassifier(k, metric=\"euclidean\")\n",
        "  knn.fit(X_train, y_train)\n",
        "  y_pred = knn.predict(X_val)\n",
        "  #accuracy\n",
        "  accuracy = accuracy_score(y_val, y_pred)\n",
        "  accuracy_list.append(accuracy)\n",
        "\n",
        "#plotting the accuracy value \n",
        "plt.figure(figsize=(12, 6))  \n",
        "plt.plot(K_range, accuracy_list, color='black', linestyle='dashed', marker='o',  \n",
        "         markerfacecolor='red', markersize=10)\n",
        "plt.title('Accuracy of the Validation w/ K')  \n",
        "plt.xlabel('K')  \n",
        "plt.ylabel('Accuracy')\n",
        "plt.xticks(K_range)\n",
        "plt.grid()\n",
        "plt.show()"
      ],
      "execution_count": null,
      "outputs": [
        {
          "output_type": "display_data",
          "data": {
            "image/png": "[encoded data removed]",
            "text/plain": [
              "<Figure size 864x432 with 1 Axes>"
            ]
          },
          "metadata": {
            "tags": []
          }
        }
      ]
    },
    {
      "cell_type": "markdown",
      "metadata": {
        "id": "AbtvwOjt2er-"
      },
      "source": [
        "As seen on the graph, the accuracy is the highest when the k value is 1, so for the accuracy score I will take k as 1."
      ]
    },
    {
      "cell_type": "code",
      "metadata": {
        "id": "B_yFRweZ2ouj",
        "colab": {
          "base_uri": "https://localhost:8080/",
          "height": 34
        },
        "outputId": "96b27338-211a-47b0-9e42-08eb902f2e77"
      },
      "source": [
        "knn = KNeighborsClassifier(1, metric=\"euclidean\")\n",
        "knn.fit(X_train, y_train)\n",
        "y_pred = knn.predict(X_test)\n",
        "accuracy_score(y_test, y_pred)"
      ],
      "execution_count": null,
      "outputs": [
        {
          "output_type": "execute_result",
          "data": {
            "text/plain": [
              "0.03067700987306065"
            ]
          },
          "metadata": {
            "tags": []
          },
          "execution_count": 32
        }
      ]
    },
    {
      "cell_type": "markdown",
      "metadata": {
        "id": "bDxdfHKu2urq"
      },
      "source": [
        "####Decision Tree"
      ]
    },
    {
      "cell_type": "code",
      "metadata": {
        "id": "T6Kphxpd22Rz",
        "colab": {
          "base_uri": "https://localhost:8080/",
          "height": 119
        },
        "outputId": "778aafae-282d-4131-e5ca-7128beee7284"
      },
      "source": [
        "model = tree.DecisionTreeClassifier()\n",
        "model.fit(X_train, y_train)"
      ],
      "execution_count": null,
      "outputs": [
        {
          "output_type": "execute_result",
          "data": {
            "text/plain": [
              "DecisionTreeClassifier(ccp_alpha=0.0, class_weight=None, criterion='gini',\n",
              "                       max_depth=None, max_features=None, max_leaf_nodes=None,\n",
              "                       min_impurity_decrease=0.0, min_impurity_split=None,\n",
              "                       min_samples_leaf=1, min_samples_split=2,\n",
              "                       min_weight_fraction_leaf=0.0, presort='deprecated',\n",
              "                       random_state=None, splitter='best')"
            ]
          },
          "metadata": {
            "tags": []
          },
          "execution_count": 33
        }
      ]
    },
    {
      "cell_type": "code",
      "metadata": {
        "id": "ssZBmhNZ23rZ",
        "colab": {
          "base_uri": "https://localhost:8080/",
          "height": 34
        },
        "outputId": "be6665db-4265-493b-c7c7-17afcf7fa558"
      },
      "source": [
        "y_pred2 = model.predict(X_test)\n",
        "print(\"Accuracy:\",accuracy_score(y_test, y_pred2))"
      ],
      "execution_count": null,
      "outputs": [
        {
          "output_type": "stream",
          "text": [
            "Accuracy: 0.9954160789844851\n"
          ],
          "name": "stdout"
        }
      ]
    },
    {
      "cell_type": "markdown",
      "metadata": {
        "id": "zt0z1mi23ENu"
      },
      "source": [
        "The accuracy of the decision tree is suspiciously high, so I should do a cross-validation."
      ]
    },
    {
      "cell_type": "code",
      "metadata": {
        "id": "TXFakgTK279q",
        "colab": {
          "base_uri": "https://localhost:8080/",
          "height": 88
        },
        "outputId": "9bd8c6d1-1f49-48e7-abc2-aec15e86fcb7"
      },
      "source": [
        "accuracies = cross_val_score(model, X_train, y_train, cv=10)\n",
        "accuracies\n",
        "print(\"Accuracy:\", accuracies.mean(), \"(+/-)\", accuracies.std()*2 )"
      ],
      "execution_count": null,
      "outputs": [
        {
          "output_type": "stream",
          "text": [
            "/usr/local/lib/python3.6/dist-packages/sklearn/model_selection/_split.py:667: UserWarning: The least populated class in y has only 1 members, which is less than n_splits=10.\n",
            "  % (min_groups, self.n_splits)), UserWarning)\n"
          ],
          "name": "stderr"
        },
        {
          "output_type": "stream",
          "text": [
            "Accuracy: 0.9970030850594978 (+/-) 0.002115469369766417\n"
          ],
          "name": "stdout"
        }
      ]
    },
    {
      "cell_type": "markdown",
      "metadata": {
        "id": "lor3l7Lc3QYv"
      },
      "source": [
        "The accuracy didn't change much with the cross validation, it's still suspiciously high. "
      ]
    },
    {
      "cell_type": "markdown",
      "metadata": {
        "id": "l4MtFOqW4jdQ"
      },
      "source": [
        "### Results & Discussion\n",
        "\n",
        "The results of my two models are very different. One is very far away from 1 and the other is close to 1. However, I'm more willing to trust the kNN model result since 0.9976 is a very high accuracy score. One advantage of using kNN model is that new data is added to the model more easily than the decision tree however, it works less efficiently than decision trees with large data. Since this isn't a very large dataset the kNN model worked just fine. "
      ]
    },
    {
      "cell_type": "markdown",
      "metadata": {
        "id": "L8mRHzGc4SH0"
      },
      "source": [
        "## Conclusion\n",
        "\n",
        "\n",
        "\n",
        "I don't think my solutions are applicable since the results of my two machine learning models are very different from each other. I think that dropping some columns to do my calculations might be the reason that the kNN accuracy score is very low. I also think that the kNN result is low because I gave the values of some columns myself.However, both of these reasons are not expailing the difference between the results of the two machine learning models. With these different results, most of them confirmed the hypotheses of the their own tests which I'm reluctantly glad about.\n",
        "\n"
      ]
    }
  ]
}